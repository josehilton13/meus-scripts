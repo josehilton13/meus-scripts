{
 "cells": [
  {
   "cell_type": "markdown",
   "metadata": {},
   "source": [
    "# Contagem e Extração das frases"
   ]
  },
  {
   "cell_type": "raw",
   "metadata": {},
   "source": [
    "Esse script agrupa as frases iguais,faz contagem dessaas e por fim,gera um csv"
   ]
  },
  {
   "cell_type": "code",
   "execution_count": null,
   "metadata": {},
   "outputs": [],
   "source": [
    "# Importanto bibliotecas\n",
    "import pandas as pd\n",
    "import glob"
   ]
  },
  {
   "cell_type": "code",
   "execution_count": null,
   "metadata": {},
   "outputs": [],
   "source": [
    "# Englobando todos em uma variável:\n",
    "user = 'jose'\n",
    "files = glob.glob(f'/home/{user}/*.csv')"
   ]
  },
  {
   "cell_type": "code",
   "execution_count": null,
   "metadata": {},
   "outputs": [],
   "source": [
    "# Concatenando e lendo os arquivos:\n",
    "df_original = pd.concat([pd.read_csv(f, engine='python') for f in files], ignore_index = True)"
   ]
  },
  {
   "cell_type": "markdown",
   "metadata": {},
   "source": [
    "# Obs: Caso queira rodar o código novamente, comece daqui"
   ]
  },
  {
   "cell_type": "code",
   "execution_count": null,
   "metadata": {},
   "outputs": [],
   "source": [
    "# Cópia para poder facilitar quando precisar ler o csv original novamente\n",
    "df = df_original.copy()"
   ]
  },
  {
   "cell_type": "code",
   "execution_count": null,
   "metadata": {
    "scrolled": true
   },
   "outputs": [],
   "source": [
    "# Mostrando o csv:\n",
    "df"
   ]
  },
  {
   "cell_type": "code",
   "execution_count": null,
   "metadata": {},
   "outputs": [],
   "source": [
    "# Deletando colunas inuteis\n",
    "df.drop(columns=['coluna_1', 'coluna_2'], inplace=True)\n",
    "\n",
    "#Dropando linhas com algum célula vazia\n",
    "df.dropna(inplace=True)\n",
    "\n",
    "#Dropando os erros de csv\n",
    "df.drop(df[df['coluna_5'].str.contains('o_erro', na=False)].index, inplace=True)"
   ]
  },
  {
   "cell_type": "code",
   "execution_count": null,
   "metadata": {
    "scrolled": true
   },
   "outputs": [],
   "source": [
    "# Filtrando a intenção\n",
    "intent = 'intent'\n",
    "df_intent = df.loc[df['client_intent'] == intent].copy()\n",
    "df_intent"
   ]
  },
  {
   "cell_type": "code",
   "execution_count": null,
   "metadata": {
    "scrolled": true
   },
   "outputs": [],
   "source": [
    "# Agrupando e contando:\n",
    "df_frases_itent_contagem = df_intent.groupby(['client_text']).size().reset_index(name='Contagem').sort_values(by='Contagem', ascending=False)\n",
    "df_frases_itent_contagem\n"
   ]
  },
  {
   "cell_type": "code",
   "execution_count": null,
   "metadata": {
    "scrolled": true
   },
   "outputs": [],
   "source": [
    "# Salvando em csv as frases em ordem\n",
    "#Foi adotado como padrão as coisas salvas em Scripts_outputs\n",
    "df_frases_itent_contagem.to_csv(f'/home/{user}/workspace/df_{intent}.csv', sep = ',', index = False, encoding = 'utf-8')\n",
    "df_frases_itent_contagem"
   ]
  }
 ],
 "metadata": {
  "kernelspec": {
   "display_name": "Python 3",
   "language": "python",
   "name": "python3"
  },
  "language_info": {
   "codemirror_mode": {
    "name": "ipython",
    "version": 3
   },
   "file_extension": ".py",
   "mimetype": "text/x-python",
   "name": "python",
   "nbconvert_exporter": "python",
   "pygments_lexer": "ipython3",
   "version": "3.7.1"
  }
 },
 "nbformat": 4,
 "nbformat_minor": 2
}
