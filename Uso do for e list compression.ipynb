{
 "cells": [
  {
   "cell_type": "markdown",
   "metadata": {},
   "source": [
    "# Uso do for"
   ]
  },
  {
   "cell_type": "raw",
   "metadata": {},
   "source": [
    "O for é utilizado em uma estrutura de repetição. Isto é, usado em cenários que haja a necessidade de repetir o mesmo procedimento mais de uma vez.\n",
    "\n",
    "Um bom modo pensar na utilização do for é:\n",
    "\n",
    "for (para cada elemento) in (que está nesta) lista:\n",
    "    quero que aconteça isso\n",
    "    depois isso\n",
    "    depois..\n",
    "Exemplo:"
   ]
  },
  {
   "cell_type": "code",
   "execution_count": 1,
   "metadata": {},
   "outputs": [
    {
     "name": "stdout",
     "output_type": "stream",
     "text": [
      "Pedro,João,Leticia,"
     ]
    }
   ],
   "source": [
    "#Exemplo 1: printar todos os itens da lista\n",
    "list_de_alunos = ['Pedro', 'João', 'Leticia']\n",
    "for alunos in list_de_alunos:       #para cada elemento dentro da lista_de_alunos\n",
    "     print(alunos, end = ',')\n",
    "\n"
   ]
  },
  {
   "cell_type": "code",
   "execution_count": 2,
   "metadata": {},
   "outputs": [
    {
     "name": "stdout",
     "output_type": "stream",
     "text": [
      "4 6 7 "
     ]
    }
   ],
   "source": [
    "# Exemplo 2: printar o tamanho das palavras\n",
    "lista_de_feira = [\"maçã\",\"banana\",\"laranja\"]\n",
    "for fruta in lista_de_feira:             #para cada elemento dentro da lista de feira eu quero\n",
    "    numero_letras_de_cada_fruta = len(fruta)\n",
    "    print(numero_letras_de_cada_fruta, end =' ')\n",
    "    \n"
   ]
  },
  {
   "cell_type": "raw",
   "metadata": {},
   "source": [
    "Uma lista de números pode ser criada de algumas formas, entre elas temos a possibilidade de usar o range()\n",
    "No range o primeiro número é o número que começa a lista, o elemento é sucessor do que você deseja e caso queira, o terceiro elemento é o passo.\n",
    "exemplo:"
   ]
  },
  {
   "cell_type": "code",
   "execution_count": 3,
   "metadata": {},
   "outputs": [
    {
     "data": {
      "text/plain": [
       "[2, 5, 8, 11, 14, 17]"
      ]
     },
     "execution_count": 3,
     "metadata": {},
     "output_type": "execute_result"
    }
   ],
   "source": [
    "#Exemplo 3: Criar lista com range\n",
    "lista_range = list(range(2,20,3))\n",
    "lista_range"
   ]
  },
  {
   "cell_type": "raw",
   "metadata": {},
   "source": [
    "No uso do for, não é necessário usar o list"
   ]
  },
  {
   "cell_type": "code",
   "execution_count": 4,
   "metadata": {},
   "outputs": [
    {
     "name": "stdout",
     "output_type": "stream",
     "text": [
      "Digite um número: 10\n",
      "O número 10 X 1 é igual a 10\n",
      "O número 10 X 3 é igual a 30\n",
      "O número 10 X 5 é igual a 50\n",
      "O número 10 X 7 é igual a 70\n",
      "O número 10 X 9 é igual a 90\n"
     ]
    }
   ],
   "source": [
    "#Exemplo 4: Multiplicadores\n",
    "numero=int(input(\"Digite um número: \"))\n",
    "\n",
    "for multiplicador in range(1, 11,2):\n",
    "    multiplicacao = numero*multiplicador\n",
    "    print(f\"O número {numero} X {multiplicador} é igual a {multiplicacao}\")"
   ]
  },
  {
   "cell_type": "raw",
   "metadata": {},
   "source": [
    "É possível também por ifs dentro de um for. Como segue exemplos abaixo:\n",
    "exemplo:"
   ]
  },
  {
   "cell_type": "code",
   "execution_count": 5,
   "metadata": {},
   "outputs": [
    {
     "name": "stdout",
     "output_type": "stream",
     "text": [
      "Diga um número 2\n",
      "O número é primo.\n"
     ]
    }
   ],
   "source": [
    "#Exemplo 5: Se é um número primo ou não\n",
    "entrada = int(input(\"Diga um número \"))\n",
    "cont=0\n",
    "for c in range(2,entrada):\n",
    "    if entrada % c ==0:\n",
    "        cont+=1\n",
    "\n",
    "if cont == 0:\n",
    "    print(\"O número é primo.\")\n",
    "    \n",
    "else:\n",
    "    print(\"O número não é primo.\")\n"
   ]
  },
  {
   "cell_type": "raw",
   "metadata": {},
   "source": [
    "No uso do for em uma lista, todos os métodos de lista são possíveis de utilizar. Entre essas propriedades, estão:\n",
    "\n",
    "list.append(x): Adiciona um item ao fim da lista.\n",
    "list.extend(iterable): Adiciona todos os itens do iterável iterable ao fim da lista.\n",
    "list.insert(i, x): Insere um item em uma dada posição i.\n",
    "list.remove(x): Remove o primeiro elemento, cujo valor seja x.\n",
    "list.pop(i): Remove o item de posição i da lista e o retorna. Caso i não seja especificado, retorna o último elemento da lista.\n",
    "list.clear(): Remove todos os elementos da lista.\n",
    "list.index(x[, start[, end]]): Retorna o índice do primeiro elemento cujo valor seja x.\n",
    "list.count(x): Retorna o número de vezes que o valor x aparece na lista.\n",
    "list.sort(key=None, reverse=False): Ordena os items da lista (os argumentos podem ser usados para customizar a ordenação).\n",
    "list.reverse(): Reverte os elementos da lista.\n",
    "list.copy(): Retorna uma lista com a cópia dos elementos da lista de origem.\n",
    "\n",
    "fonte: \n",
    "https://pythonacademy.com.br/blog/list-comprehensions-no-python\n",
    "\n",
    "Outra fonte:\n",
    "https://docs.python.org/2/tutorial/datastructures.html"
   ]
  },
  {
   "cell_type": "raw",
   "metadata": {},
   "source": [
    "Todas são utilzadas dentro do for, exemplos:"
   ]
  },
  {
   "cell_type": "code",
   "execution_count": 6,
   "metadata": {},
   "outputs": [
    {
     "name": "stdout",
     "output_type": "stream",
     "text": [
      "Diga o ano do seu nascimento: 2003\n",
      "Diga o ano do seu nascimento: 2001\n",
      "Diga o ano do seu nascimento: 2000\n",
      " O número de pessoas maiores de idade foram 2.\n",
      " O número de pessoas menores de idade foram 1.\n",
      "Lista ordenada das idadades de pessoas maiores de idade [19, 20]\n",
      " Lista ordenada das idadades de pessoas menores de idade [17].\n"
     ]
    }
   ],
   "source": [
    "# Exemplo 6: criar uma lista de idades e dizer quantos são menores e quantos são maiores de idade\n",
    "\n",
    "from datetime import datetime\n",
    "now = datetime.now()\n",
    "\n",
    "\n",
    "maiores_de_idade = []\n",
    "menores_de_idade = []\n",
    "ordem_maiores_idade = []\n",
    "ordem_menores_idade = []\n",
    "for n_pessoas in range (1,4):\n",
    "    ano = int (input(\"Diga o ano do seu nascimento: \"))\n",
    "    idade = now.year - ano\n",
    "    if idade > 18:\n",
    "        maiores_de_idade.append(idade) # uso do append como uma forma de por elementos em uma lista\n",
    "        maiores_de_idade.sort()\n",
    "    else:\n",
    "        menores_de_idade.append(idade) # uso do append como uma forma de por elementos em uma lista\n",
    "        menores_de_idade.sort()\n",
    "        \n",
    "print(f\" O número de pessoas maiores de idade foram {len(maiores_de_idade)}.\")\n",
    "print(f\" O número de pessoas menores de idade foram {len(menores_de_idade)}.\")\n",
    "\n",
    "print(f\"Lista ordenada das idadades de pessoas maiores de idade {maiores_de_idade}\")\n",
    "print(f\" Lista ordenada das idadades de pessoas menores de idade {menores_de_idade}.\")\n",
    "\n",
    "## Contando quantos tem 30 e 12 anos:\n",
    "\n"
   ]
  },
  {
   "cell_type": "markdown",
   "metadata": {},
   "source": [
    "# LIST COMPRESSION"
   ]
  },
  {
   "cell_type": "raw",
   "metadata": {},
   "source": [
    "List Comprehension é uma forma compacta de criar e manipular listas.\n",
    "\n",
    "Sua estrutura pensada é da seguinte forma:\n",
    "[expressão matemática for item in lista]\n",
    "\n",
    "exemplo:"
   ]
  },
  {
   "cell_type": "code",
   "execution_count": 7,
   "metadata": {},
   "outputs": [
    {
     "data": {
      "text/plain": [
       "[0, 1, 4, 9, 16, 25, 36, 49, 64, 81]"
      ]
     },
     "execution_count": 7,
     "metadata": {},
     "output_type": "execute_result"
    }
   ],
   "source": [
    "# Exemplo 1:\n",
    "lista = []\n",
    "for item in range(10):\n",
    "    lista.append(item**2)\n",
    "lista\n",
    "\n",
    "# De uma forma em list comprehension:\n",
    "lista = [item**2 for item in range(10)]\n",
    "lista"
   ]
  },
  {
   "cell_type": "raw",
   "metadata": {},
   "source": [
    "Perceba que a estrutura formada é uma ideia de inversão do pensamento do for. Ao invés de primeiro pensar nos elementos que serão executados, primeiro pensa-se o que se deseja fazer nos elementos, para depois dizer aonde.\n",
    "exemplo 2"
   ]
  },
  {
   "cell_type": "code",
   "execution_count": 8,
   "metadata": {},
   "outputs": [
    {
     "data": {
      "text/plain": [
       "[5, 4, 7]"
      ]
     },
     "execution_count": 8,
     "metadata": {},
     "output_type": "execute_result"
    }
   ],
   "source": [
    "# Exemplo 2:\n",
    "#Tendo uma lista de alunos:\n",
    "list_de_alunos = ['Pedro', 'João', 'Leticia']\n",
    "\n",
    "#Para ter uma lista do tamanho do número de alunos, modo sem o list compression:\n",
    "\n",
    "lista_do_tamanho = []\n",
    "for alunos in list_de_alunos:            #para cada elemento dentro da lista_de_alunos\n",
    "     tamanho = len(alunos)\n",
    "     lista_do_tamanho.append(tamanho)\n",
    "lista_do_tamanho \n",
    "\n",
    "# Com o list compression:\n",
    "acao = [len(alunos) for alunos in list_de_alunos]\n",
    "acao\n",
    "\n"
   ]
  }
 ],
 "metadata": {
  "kernelspec": {
   "display_name": "Python 3",
   "language": "python",
   "name": "python3"
  },
  "language_info": {
   "codemirror_mode": {
    "name": "ipython",
    "version": 3
   },
   "file_extension": ".py",
   "mimetype": "text/x-python",
   "name": "python",
   "nbconvert_exporter": "python",
   "pygments_lexer": "ipython3",
   "version": "3.7.1"
  }
 },
 "nbformat": 4,
 "nbformat_minor": 2
}
