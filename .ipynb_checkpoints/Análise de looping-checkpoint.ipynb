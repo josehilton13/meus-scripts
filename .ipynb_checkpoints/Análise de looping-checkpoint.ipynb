{
 "cells": [
  {
   "cell_type": "markdown",
   "metadata": {},
   "source": [
    "# Análise de Looping"
   ]
  },
  {
   "cell_type": "raw",
   "metadata": {},
   "source": [
    "Esse script tem como utilidade visualizar as intenções que mais geram looping em chamadas com um bot, as perguntas e as respostas dos clientes que acabam propriciando este looping."
   ]
  },
  {
   "cell_type": "code",
   "execution_count": null,
   "metadata": {},
   "outputs": [],
   "source": [
    "#Importando biblioteca\n",
    "import pandas as pd\n",
    "import glob\n",
    "import matplotlib.pyplot as plt"
   ]
  },
  {
   "cell_type": "code",
   "execution_count": null,
   "metadata": {},
   "outputs": [],
   "source": [
    "#Lendo os relatórios de extração de dados \n",
    "files = glob.glob('/home/jose/workspace/*.csv')\n",
    "\n",
    "df_original = pd.concat([pd.read_csv(f, engine='python') for f in files], ignore_index = True)"
   ]
  },
  {
   "cell_type": "code",
   "execution_count": null,
   "metadata": {},
   "outputs": [],
   "source": [
    "#Copia para facilitar rodar novamente\n",
    "df = df_original.copy()"
   ]
  },
  {
   "cell_type": "code",
   "execution_count": null,
   "metadata": {},
   "outputs": [],
   "source": [
    "df"
   ]
  },
  {
   "cell_type": "code",
   "execution_count": null,
   "metadata": {},
   "outputs": [],
   "source": [
    "# Ids únicos\n",
    "ids_unicos_todas_ligacoes = df['call_id'].describe().unique()[1]"
   ]
  },
  {
   "cell_type": "code",
   "execution_count": null,
   "metadata": {
    "scrolled": true
   },
   "outputs": [],
   "source": [
    "# Call ids e Intenções que se repetem em comum\n",
    "dataset_loopings_possiveis = df[df.duplicated(subset=['call_id','intent'], keep=False)].sort_values(by=['call_id'])\n",
    "dataset_loopings_possiveis"
   ]
  },
  {
   "cell_type": "code",
   "execution_count": null,
   "metadata": {
    "scrolled": true
   },
   "outputs": [],
   "source": [
    "#Removendo os call ids únicos de loopings:\n",
    "df_intent_contagem = dataset_loopings_possiveis.groupby(['call_id']).size().reset_index(name='Contagem').sort_values(by='Contagem', ascending=False)\n",
    "df_intent_contagem['Contagem'] = list(filter(lambda x : x>1,df_intent_contagem['Contagem']))\n",
    "lista_call_id = df_intent_contagem ['call_id']\n",
    "dataset_loopings = dataset_loopings_possiveis.loc[dataset_loopings_possiveis['call_id'].isin(lista_call_id)].copy()\n",
    "dataset_loopings"
   ]
  },
  {
   "cell_type": "code",
   "execution_count": null,
   "metadata": {},
   "outputs": [],
   "source": [
    "#Organizando os ids em ordem\n",
    "dataset_loopings.sort_values(['call_id', 'datetime'], inplace=True)"
   ]
  },
  {
   "cell_type": "code",
   "execution_count": null,
   "metadata": {
    "scrolled": true
   },
   "outputs": [],
   "source": [
    "# Buscando a última linha vinculada ao looping:\n",
    "dataset_ultimo_id = dataset_loopings.drop_duplicates(['call_id'],keep = 'last')\n",
    "dataset_ultimo_id"
   ]
  },
  {
   "cell_type": "code",
   "execution_count": null,
   "metadata": {},
   "outputs": [],
   "source": [
    "# Percentual de ligações com looping\n",
    "percentual = len(dataset_ultimo_id)/ids_unicos_todas_ligacoes\n",
    "percentual"
   ]
  },
  {
   "cell_type": "code",
   "execution_count": null,
   "metadata": {},
   "outputs": [],
   "source": [
    "# dataset_ultimo_id.drop(dataset_ultimo_id[dataset_ultimo_id['previous_agent_text'].str.contains('Desculpa, não entendi, pode repetir com outras', na=False)].index, inplace=True)"
   ]
  },
  {
   "cell_type": "code",
   "execution_count": null,
   "metadata": {
    "scrolled": true
   },
   "outputs": [],
   "source": [
    "# Perguntas vinculadas as intenções que mais aparecem no final da frase\n",
    "dataset_pergunta_intent_contagem= dataset_ultimo_id.groupby(['previous_agent_text','intent']).size().reset_index(name='Contagem').sort_values(by='Contagem', ascending=False)\n",
    "#dataset_pergunta_intent_contagem.to_csv(\"/home/jose/Área de Trabalho/dataset_pergunta_ctrl_intent_contagem.csv\")\n",
    "dataset_pergunta_intent_contagem"
   ]
  },
  {
   "cell_type": "code",
   "execution_count": null,
   "metadata": {
    "scrolled": true
   },
   "outputs": [],
   "source": [
    "# Perguntas vinculadas que mais aparecem no final da frase\n",
    "dataset_pergunta_contagem= dataset_ultimo_id.groupby(['previous_agent_text']).size().reset_index(name='Contagem').sort_values(by='Contagem', ascending=False)\n",
    "#dataset_pergunta_contagem.to_csv(\"/home/jose/worsksapce/dataset_apenas_pergunta_contagem.csv\")\n",
    "dataset_pergunta_contagem"
   ]
  },
  {
   "cell_type": "code",
   "execution_count": null,
   "metadata": {
    "scrolled": true
   },
   "outputs": [],
   "source": [
    "# Intenções que mais geram looping\n",
    "dataset_intent_contagem= dataset_ultimo_id.groupby(['intent']).size().reset_index(name='Contagem').sort_values(by='Contagem', ascending=False)\n",
    "#dataset_intent_contagem.to_csv(\"/home/jose/workspace/dataset_intent_contagem.csv\")\n",
    "dataset_intent_contagem"
   ]
  },
  {
   "cell_type": "code",
   "execution_count": null,
   "metadata": {
    "scrolled": false
   },
   "outputs": [],
   "source": [
    "#Plotagem do gŕáfico de intenções:\n",
    "fig, ax = plt.subplots(figsize=(8, round(len(dataset_intent_contagem)/3)), dpi=72*1.5)\n",
    "\n",
    "dataset_intent_contagem.dropna().plot.barh(x = 'intent',y='Contagem',ax=ax, width=0.6)\n",
    "\n",
    "ax.invert_yaxis()\n",
    "ax.set_xlabel('Contagem')\n",
    "ax.set_ylabel('Intents')\n",
    "ax.set_title(\"Ordem de intenções do Lopping\")\n",
    "plt.show()\n",
    "\n",
    "#fig.savefig('/home/jose/Área de Trabalho/intents_ordem_controle.png', dpi=72*1.5, bbox_inches='tight')"
   ]
  },
  {
   "cell_type": "code",
   "execution_count": null,
   "metadata": {
    "scrolled": true
   },
   "outputs": [],
   "source": [
    "# Respostas do cliente e perguntas que propriciam o looping no fluxo:\n",
    "intent = \"intenção\"\n",
    "df_intent = dataset_ultimo_id.loc[dataset_ultimo_id[\"intenção\"] == intent].copy()\n",
    "dataset_pergunta_intent_contagem= df_intent.groupby(['pergunta','frase do cliente']).size().reset_index(name='Contagem').sort_values(by='Contagem', ascending=False)\n",
    "#dataset_pergunta_intent_contagem.to_csv(f\"/home/jose/workspace/dataset_pergunta_resposat_{intent}_contagem.csv\")\n",
    "dataset_pergunta_intent_contagem"
   ]
  },
  {
   "cell_type": "code",
   "execution_count": null,
   "metadata": {},
   "outputs": [],
   "source": []
  }
 ],
 "metadata": {
  "kernelspec": {
   "display_name": "Python 3",
   "language": "python",
   "name": "python3"
  },
  "language_info": {
   "codemirror_mode": {
    "name": "ipython",
    "version": 3
   },
   "file_extension": ".py",
   "mimetype": "text/x-python",
   "name": "python",
   "nbconvert_exporter": "python",
   "pygments_lexer": "ipython3",
   "version": "3.7.1"
  }
 },
 "nbformat": 4,
 "nbformat_minor": 2
}
